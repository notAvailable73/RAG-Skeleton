{
 "cells": [
  {
   "cell_type": "markdown",
   "id": "47210d23",
   "metadata": {},
   "source": [
    "### This is just a test file to see if the environment is ready and api is working"
   ]
  },
  {
   "cell_type": "code",
   "execution_count": 2,
   "id": "09534cff",
   "metadata": {},
   "outputs": [],
   "source": [
    "from langchain_groq import ChatGroq \n",
    "from dotenv import load_dotenv \n",
    "import os"
   ]
  },
  {
   "cell_type": "code",
   "execution_count": 3,
   "id": "c7127d8a",
   "metadata": {},
   "outputs": [],
   "source": [
    "load_dotenv()\n",
    "if \"GROQ_API_KEY\" not in os.environ:\n",
    "    print(\"GROQ_API_KEY not found\") \n",
    "\n",
    "llm = ChatGroq(\n",
    "    model=\"llama-3.1-8b-instant\", \n",
    ")  "
   ]
  },
  {
   "cell_type": "code",
   "execution_count": 4,
   "id": "dbfe6608",
   "metadata": {},
   "outputs": [
    {
     "name": "stdout",
     "output_type": "stream",
     "text": [
      "I couldn't find any specific information on \"Greentech Apps Foundation.\" However, I found out that there is an organization called \"Greentech\" or \"GreenTech\" that focuses on environmental sustainability and technology, but I couldn't pinpoint the specific Greentech Apps Foundation you're referring to.\n",
      "\n",
      "That being said, I can suggest some possible ways to find more information about the Greentech Apps Foundation:\n",
      "\n",
      "1. **Google search**: Try searching for the organization's name along with the keywords \"Greentech Apps\" or \"Foundation\" to see if any relevant results come up.\n",
      "2. **Social media**: Check the organization's social media profiles (e.g., LinkedIn, Twitter, Facebook) to see if they have a presence and what kind of information they share.\n",
      "3. **Website search**: Look for a website associated with the Greentech Apps Foundation, if one exists. You can try searching for the organization's name along with the keywords \"website\" or \"contact us\" to see if they have a dedicated website.\n",
      "4. **Industry directories**: Check online directories or databases that list organizations related to environmental sustainability, technology, or innovation to see if the Greentech Apps Foundation is listed.\n",
      "\n",
      "If you have any additional information about the Greentech Apps Foundation, such as its location or the specific area of focus, it might help me narrow down the search.\n"
     ]
    }
   ],
   "source": [
    "response = llm.invoke(\"Do you know about greentech apps foundation?\")\n",
    "\n",
    "print(response.content)"
   ]
  }
 ],
 "metadata": {
  "kernelspec": {
   "display_name": "venv",
   "language": "python",
   "name": "python3"
  },
  "language_info": {
   "codemirror_mode": {
    "name": "ipython",
    "version": 3
   },
   "file_extension": ".py",
   "mimetype": "text/x-python",
   "name": "python",
   "nbconvert_exporter": "python",
   "pygments_lexer": "ipython3",
   "version": "3.13.4"
  }
 },
 "nbformat": 4,
 "nbformat_minor": 5
}
